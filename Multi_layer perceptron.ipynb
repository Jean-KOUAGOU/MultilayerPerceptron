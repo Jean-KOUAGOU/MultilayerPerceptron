{
 "cells": [
  {
   "cell_type": "markdown",
   "metadata": {},
   "source": [
    "# 1. Activation function"
   ]
  },
  {
   "cell_type": "code",
   "execution_count": 1,
   "metadata": {},
   "outputs": [],
   "source": [
    "import torch, numpy"
   ]
  },
  {
   "cell_type": "code",
   "execution_count": 4,
   "metadata": {},
   "outputs": [],
   "source": [
    "def sigma(x):\n",
    "    return torch.tanh(x)\n",
    "    \n",
    "def dsigma(x):\n",
    "    return (1-torch.tanh(x)**2).mean()"
   ]
  },
  {
   "cell_type": "markdown",
   "metadata": {},
   "source": [
    "# 2. Loss"
   ]
  },
  {
   "cell_type": "code",
   "execution_count": 5,
   "metadata": {},
   "outputs": [],
   "source": [
    "def loss(x,y):\n",
    "    return torch.norm(x-y)**2\n",
    "\n",
    "def dloss(x,y):\n",
    "    return 2*(x-y)"
   ]
  },
  {
   "cell_type": "markdown",
   "metadata": {},
   "source": [
    "# 3. Forward and backward passes"
   ]
  },
  {
   "cell_type": "code",
   "execution_count": 6,
   "metadata": {},
   "outputs": [],
   "source": [
    "def forward(w1, b1, w2, b2, x):\n",
    "    s1=torch.mm(w1, x)+b1\n",
    "    x1=sigma(s1)\n",
    "    s2=torch.mm(w2, x1)+b2\n",
    "    x2=sigma(s2)\n",
    "    return x, s1, x1, s2, x2\n",
    "    \n",
    "def backward_pass(w1, b1, w2, b2, t, x, s1, x1, s2, x2, dl_dw1, dl_db1, dl_dw2, dl_db2):\n",
    "    dl_dx2=dloss(x2, t)\n",
    "    dl_dx1=torch.mm(w2.T, dloss(x2, t)) * dsigma(s2)\n",
    "    dx1_dw1=dsigma(s1) * x.T\n",
    "    dx2_ds2=dsigma(s2)\n",
    "    dl_ds2=dx2_ds2*dl_dx2\n",
    "    dl_ds1=dl_dx1*dsigma(s1)\n",
    "    #gradients\n",
    "    dl__dw1=torch.mm(dl_dx1,dx1_dw1)\n",
    "    dl__dw2=torch.mm(dl_ds2, x1.T)\n",
    "    dl__db1=dl_ds1\n",
    "    dl__db2=dl_ds2\n",
    "    \n",
    "    return dl__dw1, dl__dw2, dl__db1, dl__db2\n",
    "    \n",
    "    "
   ]
  },
  {
   "cell_type": "code",
   "execution_count": 5,
   "metadata": {},
   "outputs": [],
   "source": [
    "# x, s1, x1, s2, x2 = forward(w1, b1, w2, b2, train_input[0].unsqueeze(1))\n",
    "# t=torch.randn(x2.size())"
   ]
  },
  {
   "cell_type": "code",
   "execution_count": 6,
   "metadata": {},
   "outputs": [],
   "source": [
    "# backward_pass(w1, b1, w2, b2, t, x, s1, x1, s2, x2, dl_dw1, dl_db1, dl_dw2, dl_db2);"
   ]
  },
  {
   "cell_type": "code",
   "execution_count": null,
   "metadata": {},
   "outputs": [],
   "source": []
  },
  {
   "cell_type": "markdown",
   "metadata": {},
   "source": [
    "# 4. Data"
   ]
  },
  {
   "cell_type": "code",
   "execution_count": 8,
   "metadata": {},
   "outputs": [
    {
     "name": "stdout",
     "output_type": "stream",
     "text": [
      "* Using MNIST\n",
      "** Reduce the data-set (use --full for the full thing)\n",
      "** Use 1000 train and 1000 test samples\n"
     ]
    }
   ],
   "source": [
    "from  dlc_practical_prologue import load_data\n",
    "train_input, train_target, test_input, test_target = load_data(one_hot_labels = True, normalize = True)"
   ]
  },
  {
   "cell_type": "code",
   "execution_count": 9,
   "metadata": {},
   "outputs": [],
   "source": [
    "train_target=train_target*0.9\n",
    "test_target=test_target*0.9"
   ]
  },
  {
   "cell_type": "code",
   "execution_count": 10,
   "metadata": {},
   "outputs": [],
   "source": [
    "import matplotlib.pyplot as plt, numpy"
   ]
  },
  {
   "cell_type": "code",
   "execution_count": 11,
   "metadata": {},
   "outputs": [
    {
     "data": {
      "text/plain": [
       "<matplotlib.image.AxesImage at 0x7f955655b490>"
      ]
     },
     "execution_count": 11,
     "metadata": {},
     "output_type": "execute_result"
    },
    {
     "data": {
      "image/png": "[encoded data removed]",
      "text/plain": [
       "<Figure size 432x288 with 1 Axes>"
      ]
     },
     "metadata": {
      "needs_background": "light"
     },
     "output_type": "display_data"
    }
   ],
   "source": [
    "plt.imshow(train_input.unsqueeze(1)[14].view(28,28))"
   ]
  },
  {
   "cell_type": "code",
   "execution_count": null,
   "metadata": {},
   "outputs": [],
   "source": []
  },
  {
   "cell_type": "markdown",
   "metadata": {},
   "source": [
    "# Training the net"
   ]
  },
  {
   "cell_type": "code",
   "execution_count": 12,
   "metadata": {},
   "outputs": [],
   "source": [
    "def prediction(x):\n",
    "    idx=x.argmax(dim=1)\n",
    "    pred=torch.zeros_like(x)\n",
    "    pred[torch.arange(x.size(0)), idx]=0.9\n",
    "    return pred"
   ]
  },
  {
   "cell_type": "code",
   "execution_count": null,
   "metadata": {},
   "outputs": [],
   "source": []
  },
  {
   "cell_type": "code",
   "execution_count": 13,
   "metadata": {},
   "outputs": [
    {
     "name": "stdout",
     "output_type": "stream",
     "text": [
      "Epoch : 0/400, training loss : 0.810, test loss : 0.810, accu_train : 9.70%, accu_test : 8.50%\n",
      "Epoch : 10/400, training loss : 0.739, test loss : 0.731, accu_train : 11.70%, accu_test : 9.90%\n",
      "Epoch : 20/400, training loss : 0.739, test loss : 0.730, accu_train : 11.70%, accu_test : 9.90%\n",
      "Epoch : 30/400, training loss : 0.739, test loss : 0.728, accu_train : 26.10%, accu_test : 21.80%\n",
      "Epoch : 40/400, training loss : 0.742, test loss : 0.627, accu_train : 32.20%, accu_test : 29.50%\n",
      "Epoch : 50/400, training loss : 0.496, test loss : 0.603, accu_train : 53.10%, accu_test : 47.60%\n",
      "Epoch : 60/400, training loss : 0.453, test loss : 0.601, accu_train : 59.40%, accu_test : 55.90%\n",
      "Epoch : 70/400, training loss : 0.369, test loss : 0.668, accu_train : 72.00%, accu_test : 66.30%\n",
      "Epoch : 80/400, training loss : 0.288, test loss : 0.776, accu_train : 77.00%, accu_test : 70.60%\n",
      "Epoch : 90/400, training loss : 0.251, test loss : 0.719, accu_train : 81.80%, accu_test : 73.00%\n",
      "Epoch : 100/400, training loss : 0.298, test loss : 0.791, accu_train : 82.00%, accu_test : 70.40%\n",
      "Epoch : 110/400, training loss : 0.320, test loss : 0.663, accu_train : 87.50%, accu_test : 76.00%\n",
      "Epoch : 120/400, training loss : 0.261, test loss : 0.789, accu_train : 88.10%, accu_test : 76.30%\n",
      "Epoch : 130/400, training loss : 0.343, test loss : 0.728, accu_train : 85.90%, accu_test : 73.00%\n",
      "Epoch : 140/400, training loss : 0.309, test loss : 0.609, accu_train : 87.70%, accu_test : 76.00%\n",
      "Epoch : 150/400, training loss : 0.265, test loss : 0.677, accu_train : 87.90%, accu_test : 76.30%\n",
      "Epoch : 160/400, training loss : 0.202, test loss : 0.636, accu_train : 88.40%, accu_test : 75.30%\n",
      "Epoch : 170/400, training loss : 0.306, test loss : 0.706, accu_train : 89.80%, accu_test : 76.50%\n",
      "Epoch : 180/400, training loss : 0.182, test loss : 0.790, accu_train : 90.30%, accu_test : 78.80%\n",
      "Epoch : 190/400, training loss : 0.302, test loss : 0.872, accu_train : 88.20%, accu_test : 76.40%\n",
      "Epoch : 200/400, training loss : 0.213, test loss : 0.813, accu_train : 88.60%, accu_test : 75.60%\n",
      "Epoch : 210/400, training loss : 0.270, test loss : 0.750, accu_train : 90.30%, accu_test : 76.60%\n",
      "Epoch : 220/400, training loss : 0.225, test loss : 0.553, accu_train : 88.80%, accu_test : 76.30%\n",
      "Epoch : 230/400, training loss : 0.214, test loss : 0.705, accu_train : 91.20%, accu_test : 78.30%\n",
      "Epoch : 240/400, training loss : 0.280, test loss : 0.711, accu_train : 90.90%, accu_test : 75.40%\n",
      "Epoch : 250/400, training loss : 0.227, test loss : 0.889, accu_train : 88.80%, accu_test : 74.80%\n",
      "Epoch : 260/400, training loss : 0.378, test loss : 0.757, accu_train : 88.60%, accu_test : 74.10%\n",
      "Epoch : 270/400, training loss : 0.195, test loss : 0.670, accu_train : 90.50%, accu_test : 75.90%\n",
      "Epoch : 280/400, training loss : 0.198, test loss : 0.653, accu_train : 91.20%, accu_test : 76.50%\n",
      "Epoch : 290/400, training loss : 0.287, test loss : 0.902, accu_train : 88.60%, accu_test : 73.70%\n",
      "Epoch : 300/400, training loss : 0.221, test loss : 0.668, accu_train : 91.50%, accu_test : 77.10%\n",
      "Epoch : 310/400, training loss : 0.248, test loss : 0.620, accu_train : 91.90%, accu_test : 76.50%\n",
      "Epoch : 320/400, training loss : 0.270, test loss : 0.780, accu_train : 91.60%, accu_test : 77.10%\n",
      "Epoch : 330/400, training loss : 0.156, test loss : 0.576, accu_train : 93.30%, accu_test : 77.70%\n",
      "Epoch : 340/400, training loss : 0.206, test loss : 0.657, accu_train : 92.80%, accu_test : 78.10%\n",
      "Epoch : 350/400, training loss : 0.149, test loss : 0.662, accu_train : 92.00%, accu_test : 74.20%\n",
      "Epoch : 360/400, training loss : 0.447, test loss : 0.877, accu_train : 89.30%, accu_test : 72.50%\n",
      "Epoch : 370/400, training loss : 0.169, test loss : 0.924, accu_train : 90.00%, accu_test : 73.80%\n",
      "Epoch : 380/400, training loss : 0.182, test loss : 0.674, accu_train : 92.40%, accu_test : 75.80%\n",
      "Epoch : 390/400, training loss : 0.238, test loss : 0.724, accu_train : 92.60%, accu_test : 77.30%\n"
     ]
    }
   ],
   "source": [
    "eps=1e-6\n",
    "w1=torch.normal(mean=torch.zeros((50, 784)), std=torch.ones((50, 784))*eps)\n",
    "w2=torch.normal(mean=torch.zeros((10, 50)), std=torch.ones((10, 50))*eps)\n",
    "b1=torch.normal(mean=torch.zeros((50, 1)), std=torch.ones((50, 1))*eps)\n",
    "b2=torch.normal(mean=torch.zeros((10, 1)), std=torch.ones((10, 1))*eps)\n",
    "\n",
    "dl_dw1=torch.zeros_like(w1)\n",
    "dl_dw2=torch.zeros_like(w2)\n",
    "dl_db1=torch.zeros_like(b1)\n",
    "dl_db2=torch.zeros_like(b2)\n",
    "\n",
    "num_epoch=400\n",
    "lr=1e-4\n",
    "\n",
    "for i in range(num_epoch):\n",
    "    sum_dl_dw1=torch.zeros_like(dl_dw1)\n",
    "    sum_dl_dw2=torch.zeros_like(dl_dw2)\n",
    "    sum_dl_db1=torch.zeros_like(dl_db1)\n",
    "    sum_dl_db2=torch.zeros_like(dl_db2)\n",
    "    X2=[]\n",
    "    X2_t1=[]\n",
    "    for idx in range(train_input.size(0)):\n",
    "        x=train_input[idx].unsqueeze(1)\n",
    "        t=train_target[idx].unsqueeze(1)\n",
    "        t1=test_target[idx].unsqueeze(1)\n",
    "        x_t1=test_input[idx].unsqueeze(1)\n",
    "        _, s1, x1, s2, x2 = forward(w1, b1, w2, b2, x)\n",
    "        X2.append(x2.T)\n",
    "        _, _, _, _, x2_t1=forward(w1, b1, w2, b2, x_t1)\n",
    "        dl_dw1, dl_dw2, dl_db1, dl_db2 = backward_pass(w1, b1, w2, b2, t, x, s1, x1, s2, x2, dl_dw1, dl_db1, dl_dw2, dl_db2)\n",
    "        X2_t1.append(x2_t1)\n",
    "        sum_dl_dw1 += dl_dw1\n",
    "        sum_dl_dw2 += dl_dw2\n",
    "        sum_dl_db1 += dl_db1\n",
    "        sum_dl_db2 += dl_db2\n",
    "        \n",
    "    X2 = torch.stack(X2, dim=0).squeeze()\n",
    "    X2_t1 = torch.stack(X2_t1, dim=0).squeeze()\n",
    "    \n",
    "    w1 -= lr*sum_dl_dw1\n",
    "    w2 -= lr*sum_dl_dw2\n",
    "    b1 -= lr*sum_dl_db1\n",
    "    b2 -= lr*sum_dl_db2\n",
    "    \n",
    "    accuracy2 = ((prediction(X2_t1) == test_target).all(dim=1)*1.0).mean()\n",
    "#     if accuracy2>0.78:\n",
    "#         lr=lr/1.1 #this will reduce the learning rate when good accuracy is achieved in order to avoid overfitting and divergence\n",
    "        \n",
    "    if i%10 == 0:\n",
    "        accuracy1 = ((prediction(X2) == train_target).all(dim=1)*1.0).mean()\n",
    "        accuracy2 = ((prediction(X2_t1) == test_target).all(dim=1)*1.0).mean()\n",
    "        print(\"Epoch : {}/{}, training loss : {:.3f}, test loss : {:.3f}, accu_train : {:.2f}%, accu_test : {:.2f}%\".format(i, num_epoch, \\\n",
    "                                                           loss(x2, t), loss(x2_t1, t1), accuracy1*100, accuracy2*100))"
   ]
  },
  {
   "cell_type": "code",
   "execution_count": null,
   "metadata": {},
   "outputs": [],
   "source": []
  },
  {
   "cell_type": "code",
   "execution_count": 14,
   "metadata": {},
   "outputs": [
    {
     "data": {
      "text/plain": [
       "tensor([5, 0, 4, 1, 9, 2, 1, 3, 1, 4, 3, 5, 3, 6, 1, 7, 2, 8, 6, 7, 4, 0, 9, 1,\n",
       "        5, 2, 4, 3, 2, 7, 3, 8, 6, 7, 0, 5, 6, 0, 7, 6, 1, 8, 7, 9, 3, 9, 8, 5,\n",
       "        5, 3, 3, 0, 7, 4, 9, 7, 0, 9, 4, 1, 4, 4, 6, 0, 4, 5, 6, 1, 0, 0, 1, 7,\n",
       "        1, 6, 3, 0, 2, 1, 1, 7, 7, 0, 2, 6, 7, 8, 3, 7, 0, 4, 6, 7, 4, 6, 8, 0,\n",
       "        7, 8, 3, 1, 9, 7, 1, 7, 1, 1, 6, 3, 0, 6, 9, 3, 1, 1, 0, 4, 9, 2, 0, 0,\n",
       "        2, 0, 2, 7, 1, 8, 6, 4, 1, 6, 3, 4, 5, 7, 5, 3, 3, 1, 5, 4, 7, 7, 4, 2,\n",
       "        8, 5, 8, 6, 7, 3, 4, 6, 1, 9, 7, 6, 0, 3, 7, 2, 7, 2, 9, 4, 4, 6, 4, 9,\n",
       "        7, 0, 9, 2, 7, 5, 1, 5, 9, 1, 2, 3, 7, 3, 5, 9, 1, 7, 6, 2, 8, 2, 2, 5,\n",
       "        0, 7, 4, 9, 7, 8, 3, 2, 1, 1, 5, 3, 6, 1, 0, 3, 1, 0, 0, 1, 7, 2, 7, 3,\n",
       "        0, 4, 6, 5, 2, 6, 4, 7, 7, 8, 9, 9, 5, 0, 7, 1, 6, 2, 0, 3, 5, 4, 6, 5,\n",
       "        1, 6, 3, 7, 5, 8, 0, 9, 1, 0, 7, 1, 2, 2, 3, 3, 6, 4, 7, 5, 0, 6, 0, 7,\n",
       "        9, 8, 5, 9, 7, 1, 1, 4, 4, 5, 6, 4, 1, 2, 6, 3, 9, 3, 9, 0, 5, 9, 6, 5,\n",
       "        7, 4, 1, 3, 4, 0, 4, 8, 0, 4, 3, 6, 1, 7, 6, 0, 9, 7, 5, 7, 2, 1, 1, 6,\n",
       "        8, 9, 4, 1, 5, 2, 2, 9, 0, 3, 4, 6, 7, 2, 0, 3, 5, 4, 3, 6, 5, 8, 9, 5,\n",
       "        4, 7, 4, 2, 7, 3, 4, 8, 9, 1, 5, 2, 5, 7, 9, 1, 5, 7, 4, 1, 3, 1, 1, 0,\n",
       "        2, 3, 9, 4, 9, 2, 1, 6, 8, 4, 1, 7, 4, 4, 9, 2, 5, 7, 2, 4, 4, 2, 1, 9,\n",
       "        7, 2, 8, 7, 6, 9, 2, 2, 3, 8, 1, 6, 5, 1, 1, 0, 2, 6, 4, 5, 5, 3, 1, 5,\n",
       "        1, 9, 2, 7, 4, 4, 4, 8, 1, 5, 5, 9, 5, 6, 7, 9, 9, 2, 7, 0, 9, 0, 6, 6,\n",
       "        2, 3, 4, 0, 7, 5, 4, 8, 0, 9, 4, 1, 1, 8, 7, 1, 2, 6, 1, 0, 3, 0, 1, 1,\n",
       "        8, 2, 0, 7, 9, 4, 0, 5, 0, 6, 1, 7, 7, 8, 1, 9, 1, 0, 5, 1, 2, 2, 7, 3,\n",
       "        5, 4, 9, 7, 1, 9, 3, 9, 1, 0, 3, 1, 1, 2, 0, 3, 5, 7, 6, 8, 7, 9, 5, 8,\n",
       "        5, 7, 6, 1, 1, 3, 1, 7, 5, 5, 5, 2, 5, 5, 7, 0, 9, 7, 7, 5, 0, 7, 0, 0,\n",
       "        2, 9, 2, 4, 8, 4, 6, 1, 6, 5, 1, 5, 3, 4, 0, 5, 3, 8, 3, 6, 2, 3, 9, 2,\n",
       "        1, 1, 5, 2, 1, 3, 2, 5, 7, 5, 7, 2, 4, 6, 9, 7, 2, 4, 2, 8, 1, 1, 1, 8,\n",
       "        4, 0, 6, 5, 9, 3, 0, 9, 2, 4, 7, 1, 1, 7, 4, 2, 6, 1, 8, 9, 0, 6, 6, 7,\n",
       "        9, 9, 5, 0, 1, 4, 4, 6, 7, 1, 5, 1, 0, 3, 5, 8, 4, 7, 1, 2, 5, 9, 5, 6,\n",
       "        7, 5, 4, 8, 8, 3, 6, 9, 7, 0, 7, 2, 7, 1, 1, 0, 7, 9, 2, 3, 1, 3, 1, 4,\n",
       "        1, 6, 2, 7, 5, 5, 7, 4, 0, 2, 6, 3, 6, 4, 0, 4, 2, 6, 0, 0, 0, 0, 2, 1,\n",
       "        6, 2, 2, 3, 1, 4, 1, 5, 4, 6, 4, 7, 2, 8, 7, 9, 2, 0, 5, 1, 4, 2, 8, 3,\n",
       "        2, 4, 1, 5, 4, 6, 0, 7, 9, 8, 4, 9, 8, 0, 1, 1, 0, 2, 2, 3, 2, 4, 4, 5,\n",
       "        1, 6, 5, 7, 7, 8, 5, 9, 7, 4, 7, 3, 2, 0, 8, 6, 8, 6, 1, 6, 8, 9, 4, 0,\n",
       "        7, 0, 4, 1, 5, 4, 7, 5, 3, 7, 4, 9, 8, 5, 8, 6, 3, 8, 6, 9, 9, 1, 8, 3,\n",
       "        5, 8, 6, 5, 9, 7, 2, 5, 0, 8, 4, 1, 1, 0, 9, 1, 2, 6, 7, 0, 9, 3, 0, 8,\n",
       "        8, 9, 6, 7, 8, 4, 7, 5, 9, 2, 6, 7, 4, 5, 9, 2, 3, 1, 6, 3, 9, 2, 2, 5,\n",
       "        6, 8, 0, 7, 7, 1, 9, 8, 7, 0, 4, 9, 4, 6, 2, 8, 5, 1, 4, 1, 5, 5, 1, 7,\n",
       "        3, 6, 4, 3, 2, 5, 6, 4, 4, 0, 6, 4, 6, 7, 9, 4, 3, 3, 1, 0, 0, 3, 2, 2,\n",
       "        7, 8, 2, 3, 7, 0, 1, 1, 0, 2, 3, 3, 8, 4, 3, 2, 7, 6, 4, 7, 2, 8, 5, 9,\n",
       "        7, 0, 3, 1, 1, 2, 4, 3, 4, 4, 7, 5, 9, 6, 2, 0, 7, 1, 4, 2, 7, 3, 6, 7,\n",
       "        5, 8, 4, 5, 5, 2, 7, 1, 1, 5, 6, 8, 5, 8, 4, 0, 7, 9, 9, 2, 9, 7, 7, 8,\n",
       "        7, 4, 2, 6, 9, 1, 7, 0, 6, 4, 8, 5, 7, 0, 7, 1, 0, 3, 7, 6, 5, 0, 6, 1,\n",
       "        5, 1, 7, 8, 5, 0, 3, 4, 7, 7, 5, 7, 8, 6, 9, 3, 8, 6, 1, 0, 9, 7, 1, 3,\n",
       "        0, 5, 6, 4, 4, 2, 4, 4, 3, 1, 7, 4, 6, 0, 3, 6])"
      ]
     },
     "execution_count": 14,
     "metadata": {},
     "output_type": "execute_result"
    }
   ],
   "source": [
    "prediction(X2).argmax(dim=1)"
   ]
  },
  {
   "cell_type": "code",
   "execution_count": 15,
   "metadata": {},
   "outputs": [
    {
     "data": {
      "text/plain": [
       "tensor(0.9240)"
      ]
     },
     "execution_count": 15,
     "metadata": {},
     "output_type": "execute_result"
    }
   ],
   "source": [
    "((train_target.argmax(dim=1)==prediction(X2).argmax(dim=1))*1.0).mean()"
   ]
  },
  {
   "cell_type": "code",
   "execution_count": 16,
   "metadata": {},
   "outputs": [
    {
     "data": {
      "text/plain": [
       "tensor(0.7490)"
      ]
     },
     "execution_count": 16,
     "metadata": {},
     "output_type": "execute_result"
    }
   ],
   "source": [
    "((test_target.argmax(dim=1)==prediction(X2_t1).argmax(dim=1))*1.0).mean()"
   ]
  },
  {
   "cell_type": "code",
   "execution_count": null,
   "metadata": {},
   "outputs": [],
   "source": []
  }
 ],
 "metadata": {
  "kernelspec": {
   "display_name": "Python 3",
   "language": "python",
   "name": "python3"
  },
  "language_info": {
   "codemirror_mode": {
    "name": "ipython",
    "version": 3
   },
   "file_extension": ".py",
   "mimetype": "text/x-python",
   "name": "python",
   "nbconvert_exporter": "python",
   "pygments_lexer": "ipython3",
   "version": "3.7.6"
  }
 },
 "nbformat": 4,
 "nbformat_minor": 4
}
